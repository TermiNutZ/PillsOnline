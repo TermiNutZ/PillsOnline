{
 "cells": [
  {
   "cell_type": "code",
   "execution_count": 2,
   "metadata": {
    "collapsed": false
   },
   "outputs": [],
   "source": [
    "from gensim.models import Word2Vec\n",
    "from nltk.stem.snowball import SnowballStemmer\n",
    "import os\n",
    "import unicodedata\n",
    "import sys"
   ]
  },
  {
   "cell_type": "markdown",
   "metadata": {},
   "source": [
    "### Read all instructions and split by headers"
   ]
  },
  {
   "cell_type": "code",
   "execution_count": 3,
   "metadata": {
    "collapsed": false
   },
   "outputs": [],
   "source": [
    "tbl = dict.fromkeys(i for i in range(sys.maxunicode)\n",
    "                      if unicodedata.category(chr(i)).startswith('P'))\n",
    "\n",
    "\n",
    "def remove_punctuation(text):\n",
    "    return text.translate(tbl)\n",
    "\n",
    "stemmer = SnowballStemmer('russian')\n",
    "\n",
    "DATA_PATH = '/media/pavel/etc/Innopolis/Semester3/Information_Retrieval/pills_online/static/desc'\n",
    "\n",
    "\n",
    "texts = []\n",
    "collection_str = \"\"\n",
    "for file in os.listdir(DATA_PATH):\n",
    "    if file.endswith(\".txt\"):\n",
    "        with open(os.path.join(DATA_PATH, file)) as f:\n",
    "            data = f.readlines()\n",
    "            title = data[0]\n",
    "            splitted_h_d = \"\\n\".join(data[1:]).split('!#!')\n",
    "            transl_dict = {'Показания': 'indication', 'Дозировка': 'dosage', 'Противопоказания': 'contra',\n",
    "                           'Побочные действия': 'side_effect', 'Фармакологическое действие': 'pharm_action',\n",
    "                           'Особые указания': 'spec_instruct', 'Беременность и лактация': 'pregnancy',\n",
    "                           'Лекарственное взаимодействие': 'med_interact', 'Фармакокинетика': 'pharm_kinetic',\n",
    "                           'Применение в детском возрасте': 'child_policy',\n",
    "                           'Клинико-фармакологическая группа': 'clinic_pharm_group',\n",
    "                           'Форма выпуска, состав и упаковка': 'form_composition',\n",
    "                           'Условия отпуска из аптек': 'distr_policy',\n",
    "                           'Условия и сроки хранения': 'expiration_date', 'Передозировка': 'overdosage',\n",
    "                           'При нарушениях функции почек': 'kidney', 'При нарушениях функции печени': 'liver',\n",
    "                           'Применение в пожилом возрасте': 'old_policy'}\n",
    "            paste_dict = {}\n",
    "            for h_d in splitted_h_d:\n",
    "                if h_d != '':\n",
    "                    h_d = h_d.split('#!#\\n\\n')\n",
    "                    texts.append(remove_punctuation(h_d[1].lower()))\n"
   ]
  },
  {
   "cell_type": "code",
   "execution_count": 61,
   "metadata": {
    "collapsed": false
   },
   "outputs": [],
   "source": [
    "for i in range(len(texts)):\n",
    "    texts[i] = texts[i].split()"
   ]
  },
  {
   "cell_type": "code",
   "execution_count": 62,
   "metadata": {
    "collapsed": false,
    "scrolled": true
   },
   "outputs": [],
   "source": [
    "model = Word2Vec(texts, size=100, window=5, min_count=5, workers=4)"
   ]
  },
  {
   "cell_type": "code",
   "execution_count": 76,
   "metadata": {
    "collapsed": false
   },
   "outputs": [
    {
     "data": {
      "text/plain": [
       "[('рвота', 0.8671563863754272),\n",
       " ('диарея', 0.8603166937828064),\n",
       " ('кровавая', 0.7685834765434265),\n",
       " ('запор', 0.7644928693771362),\n",
       " ('диспепсия', 0.7634053230285645),\n",
       " ('изжога', 0.7459027767181396),\n",
       " ('анорексия', 0.7275600433349609),\n",
       " ('метеоризм', 0.714730978012085),\n",
       " ('эпигастрии', 0.6970781087875366),\n",
       " ('отрыжка', 0.6968234777450562)]"
      ]
     },
     "execution_count": 76,
     "metadata": {},
     "output_type": "execute_result"
    }
   ],
   "source": [
    "model.most_similar('тошнота')"
   ]
  },
  {
   "cell_type": "code",
   "execution_count": 74,
   "metadata": {
    "collapsed": false
   },
   "outputs": [],
   "source": [
    "model.save('w2vmodel.w2v')"
   ]
  }
 ],
 "metadata": {
  "kernelspec": {
   "display_name": "Python 3_6",
   "language": "python",
   "name": "myenv"
  },
  "language_info": {
   "codemirror_mode": {
    "name": "ipython",
    "version": 3
   },
   "file_extension": ".py",
   "mimetype": "text/x-python",
   "name": "python",
   "nbconvert_exporter": "python",
   "pygments_lexer": "ipython3",
   "version": "3.6.2"
  },
  "varInspector": {
   "cols": {
    "lenName": 16,
    "lenType": 16,
    "lenVar": 40
   },
   "kernels_config": {
    "python": {
     "delete_cmd_postfix": "",
     "delete_cmd_prefix": "del ",
     "library": "var_list.py",
     "varRefreshCmd": "print(var_dic_list())"
    },
    "r": {
     "delete_cmd_postfix": ") ",
     "delete_cmd_prefix": "rm(",
     "library": "var_list.r",
     "varRefreshCmd": "cat(var_dic_list()) "
    }
   },
   "types_to_exclude": [
    "module",
    "function",
    "builtin_function_or_method",
    "instance",
    "_Feature"
   ],
   "window_display": false
  }
 },
 "nbformat": 4,
 "nbformat_minor": 2
}
