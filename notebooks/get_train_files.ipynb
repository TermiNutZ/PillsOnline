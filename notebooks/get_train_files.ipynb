{
 "cells": [
  {
   "cell_type": "code",
   "execution_count": 1,
   "metadata": {
    "collapsed": true
   },
   "outputs": [],
   "source": [
    "import os\n",
    "import numpy as np\n",
    "import sys, unicodedata"
   ]
  },
  {
   "cell_type": "code",
   "execution_count": 2,
   "metadata": {
    "collapsed": false
   },
   "outputs": [],
   "source": [
    "tbl = dict.fromkeys(i for i in range(sys.maxunicode)\n",
    "                    if unicodedata.category(chr(i)).startswith('P'))"
   ]
  },
  {
   "cell_type": "code",
   "execution_count": 4,
   "metadata": {
    "collapsed": false
   },
   "outputs": [],
   "source": [
    "for root,dirs, files in os.walk('tsv_files/'):\n",
    "    tsv_list = [file for file in files if file[-3:]==\"tsv\"]\n",
    "whole_class_info=[[],[],[]]\n",
    "with open(root+\"assess_pregnancy.tsv\") as cur_tsv:\n",
    "    separated_data = [line.split('\\t') for line in cur_tsv.readlines()]\n",
    "    separated_data = np.asarray(separated_data)\n",
    "    data = separated_data[:,0]\n",
    "    labels = separated_data[:,1]\n",
    "    labels = [int(label) for label in labels]\n",
    "    for idx,label in enumerate(labels):\n",
    "        whole_class_info[label].append(data[idx].translate(tbl))\n",
    "    for idx, item in enumerate(whole_class_info):\n",
    "        with open(\"preg\"+os.sep+str(idx)+\".txt\",\"w+\") as write_f:\n",
    "            write_f.write(\"\\n\".join(item))"
   ]
  },
  {
   "cell_type": "code",
   "execution_count": 5,
   "metadata": {
    "collapsed": false
   },
   "outputs": [
    {
     "data": {
      "text/plain": [
       "'Адекватных и хорошо контролируемых исследований применения мометазона при беременности не проводилось После ингаляционного применения концентрация мометазона фуроата в плазме крови очень низка воздействие на плод вероятно чрезвычайно мало вероятность токсического воздействия на репродуктивность очень низка'"
      ]
     },
     "execution_count": 5,
     "metadata": {},
     "output_type": "execute_result"
    }
   ],
   "source": [
    "whole_class_info[2][1]"
   ]
  }
 ],
 "metadata": {
  "anaconda-cloud": {},
  "kernelspec": {
   "display_name": "Python [InfRet]",
   "language": "python",
   "name": "Python [InfRet]"
  },
  "language_info": {
   "codemirror_mode": {
    "name": "ipython",
    "version": 3
   },
   "file_extension": ".py",
   "mimetype": "text/x-python",
   "name": "python",
   "nbconvert_exporter": "python",
   "pygments_lexer": "ipython3",
   "version": "3.6.2"
  }
 },
 "nbformat": 4,
 "nbformat_minor": 2
}
