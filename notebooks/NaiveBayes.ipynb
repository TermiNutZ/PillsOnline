{
 "cells": [
  {
   "cell_type": "code",
   "execution_count": 2,
   "metadata": {
    "collapsed": true
   },
   "outputs": [],
   "source": [
    "import numpy as np\n",
    "import nltk\n",
    "import codecs\n",
    "from sklearn.model_selection import train_test_split\n",
    "import re\n",
    "from nltk.tokenize import word_tokenize\n",
    "from nltk.stem.snowball import SnowballStemmer\n",
    "import math as m\n",
    "from sklearn.metrics import f1_score\n",
    "from sklearn.model_selection import cross_val_score\n",
    "import random\n",
    "import matplotlib.pyplot as plt\n",
    "import copy\n",
    "from scipy.optimize import minimize\n",
    "import os\n",
    "import sys, unicodedata\n",
    "%matplotlib inline"
   ]
  },
  {
   "cell_type": "markdown",
   "metadata": {},
   "source": [
    "### The method below is for:\n",
    "<ul>\n",
    "<li>parsing</li>\n",
    "<li>preprocessing</li>\n",
    "<li>stemming</li>\n",
    "</ul>"
   ]
  },
  {
   "cell_type": "code",
   "execution_count": 3,
   "metadata": {
    "collapsed": true
   },
   "outputs": [],
   "source": [
    "my_stop_words = ['','--','***','-','.',',',':',';','!','?','(',')','[',']','Ł','ł','œ',\"$\",'%','&','#',\"''\",'``','\\n','™','+','-','@','>','<',\"'\",'~']\n",
    "stemmer = SnowballStemmer(\"russian\")\n",
    "def getDatasetAsList(filenames, mode=\"train\", trainsep=\"\\n\"):\n",
    "    dataset_items = np.array([])\n",
    "    dataset_labels = np.array([],dtype=int)\n",
    "    for idx,filename in enumerate(filenames):\n",
    "        labels = []\n",
    "        test_for_print = []\n",
    "        file = codecs.open(filename,\"r+\",encoding=\"utf-8\")\n",
    "        linesOfFile = file.read()\n",
    "        if mode==\"train\":\n",
    "            paragraphs = np.array(linesOfFile.split(trainsep))\n",
    "        else:\n",
    "            paragraphs = np.array(linesOfFile.split(\"\\n\"))\n",
    "            test_for_print = copy.deepcopy(paragraphs)\n",
    "        splitted_data = [word_tokenize(\" \".join(sample.split(\"/\"))) for sample in paragraphs]\n",
    "        list_of_tokens=[]\n",
    "        for sublist in splitted_data:\n",
    "            list_of_tokens.append([stemmer.stem(item.lower()) for item in sublist if item.lower() not in my_stop_words and re.match(r\"[0-9]+\",item) is None])\n",
    "        if mode==\"train\":\n",
    "            list_of_tokens = [l_o_t for l_o_t in list_of_tokens if l_o_t!=[]]\n",
    "            labels = np.full(len(list_of_tokens),int(idx))\n",
    "        else:\n",
    "            cur_lbl = -1\n",
    "            labels = np.full(len(list_of_tokens),-2)\n",
    "        dataset_items = np.append(dataset_items, list_of_tokens)\n",
    "        dataset_labels = np.append(dataset_labels, labels)\n",
    "    return (dataset_items, dataset_labels,test_for_print)"
   ]
  },
  {
   "cell_type": "code",
   "execution_count": 37,
   "metadata": {
    "collapsed": true
   },
   "outputs": [],
   "source": [
    "dataset_items, dataset_labels, _ = getDatasetAsList([\"kidney/0.txt\",\"kidney/1.txt\",\"kidney/2.txt\"],trainsep=\"\\n\")\n",
    "X_train, X_val, y_train, y_val = train_test_split(dataset_items, dataset_labels, test_size=0.0, random_state=0)\n",
    "text_of_labels = [\"0\",\"1\",\"2\", \"unknown\"]"
   ]
  },
  {
   "cell_type": "markdown",
   "metadata": {},
   "source": [
    "### The class below is a main classifyer written based on sklearn convention.\n",
    "\n",
    "The constructor of a classifyer can obtain Language model and it's parameters or KL-div parameter. Use:\n",
    "<ul>\n",
    "<li>LM=\"J-M\" for Jelinec-Mercer smoothing</li>\n",
    "<li>LM=\"Dir\" for Dirichlet smoothing</li>\n",
    "<li>LM=\"KL\" for KL-distance as a metrics between query and document</li>\n",
    "</ul>\n",
    "Methods:\n",
    "<ul>\n",
    "<li> fit(self,X_train, y_train) is used to build a model based on the X_train and X_test</li>\n",
    "<li> classify(self, X_test) is used to make predictions about labels. Returns arrays of predictions</li>\n",
    "<li> opt_mu(self) - use used as a parametr of optimization method from sklearn library</li>\n",
    "</ul>"
   ]
  },
  {
   "cell_type": "code",
   "execution_count": 5,
   "metadata": {
    "collapsed": true
   },
   "outputs": [],
   "source": [
    "class MyNaiveBayes:\n",
    "    common_dict = {}\n",
    "    common_bigram_dict = {}\n",
    "    each_class_tokens = []\n",
    "    each_class_dict = []\n",
    "    each_class_bigram_dict = []\n",
    "    def __init__(self, LM=\"J-M\", my_lambda=0, my_mu=0):\n",
    "        # Defaul LM = Jelinec Mercer with lambda=0\n",
    "        self.my_lambda = my_lambda\n",
    "        self.my_mu = my_mu\n",
    "        self.LM = LM\n",
    "    def count_KL_dist(self, tokens_list, freq_vocab):\n",
    "        query_dict = {}\n",
    "        KL_dist = 0\n",
    "        for token in tokens_list:\n",
    "            query_dict[token] = 1 if token not in query_dict else query_dict[token]+1\n",
    "        for token in tokens_list:\n",
    "            KL_dist += query_dict[token]*np.log2(freq_vocab[token]) if token in freq_vocab else query_dict[token]*np.log2(1e-30)\n",
    "        return KL_dist\n",
    "    def count_dirich_prob(self, tokens_list, freq_vocab, common_dict, idx_of_dict):\n",
    "        dirc_prob = 0\n",
    "        mult1 = len(self.each_class_tokens[idx_of_dict])/(len(self.each_class_tokens[idx_of_dict])+self.my_mu)\n",
    "        mult2 = self.my_mu/(len(self.each_class_tokens[idx_of_dict])+self.my_mu)                                              \n",
    "        for token in tokens_list:\n",
    "            if token in freq_vocab:\n",
    "                dirc_prob += m.log2(mult1*(freq_vocab[token])+mult2*(common_dict[token]))\n",
    "            elif token not in freq_vocab and token in common_dict:\n",
    "                dirc_prob += m.log2(mult1*(1e-30)+mult2*(common_dict[token]))\n",
    "        return dirc_prob\n",
    "    def count_JM_prob(self,tokens_list, freq_vocab, common_dict):\n",
    "        log_prob = 0\n",
    "        for token in tokens_list:\n",
    "            if token in freq_vocab:\n",
    "                log_prob += m.log2((1 - self.my_lambda) * (freq_vocab[token]) + self.my_lambda * (common_dict[token]))\n",
    "            elif token not in freq_vocab and token in common_dict:\n",
    "                log_prob += m.log2((1 - self.my_lambda) * (1e-30) + self.my_lambda * (common_dict[token]))\n",
    "        return log_prob\n",
    "    def count_bigram_prob(self, token_list, freq_vocab, bigram_dict,each_class_bigram_dict_freq):\n",
    "        log_prob = 0\n",
    "        for idx,token in enumerate(token_list[:-1]):\n",
    "            bigram = \" \".join([token, token_list[idx+1]])\n",
    "            if bigram in bigram_dict:\n",
    "                log_prob += each_class_bigram_dict_freq[bigram]*m.log2((1 - self.my_lambda)*bigram_dict[bigram] + self.my_lambda * (freq_vocab[token]))\n",
    "            elif token in freq_vocab:\n",
    "                log_prob += m.log2((1 - self.my_lambda)*(1e-15)+ self.my_lambda * (freq_vocab[token]))\n",
    "        return log_prob\n",
    "    def classify(self, X_test):\n",
    "        classify_result = []\n",
    "        # Counting probabilities\n",
    "        for idx, freq_vocab in enumerate(self.each_class_dict):\n",
    "            if self.LM == \"JM\":\n",
    "                classify_result.append([self.count_JM_prob(x_test, freq_vocab, self.common_dict) for x_test in X_test])\n",
    "            elif self.LM == \"Dir\":\n",
    "                classify_result.append([self.count_dirich_prob(x_test, freq_vocab, self.common_dict, idx) for x_test in X_test])\n",
    "            elif self.LM == \"bigramm\":\n",
    "                classify_result.append([self.count_bigram_prob(x_test, freq_vocab, self.each_class_bigram_dict[idx],self.each_class_bigram_dict_freq[idx]) for x_test in X_test])\n",
    "            else:\n",
    "                classify_result.append([self.count_KL_dist(x_test, freq_vocab) for x_test in X_test])\n",
    "        classify_result = np.array(classify_result)\n",
    "        # For the same predictions make this sample to be \"unknown\"\n",
    "        undef_pred = []\n",
    "        for j in range(0,len(classify_result[0])): \n",
    "            if (classify_result[0,j] == classify_result[1,j] and classify_result[1,j] == classify_result[2,j]):\n",
    "                undef_pred.append(j)\n",
    "        res = np.argmax(classify_result,axis=0)\n",
    "        if undef_pred != []:\n",
    "            res[undef_pred] = -1\n",
    "        return (res)\n",
    "    def fit(self, X_train, y_train,**kwargs):\n",
    "        self.common_dict = {}\n",
    "        self.common_bigram_dict = {}\n",
    "        # Creating list of tokens and dictionaries for each class\n",
    "        self.each_class_dict = [{} for i in range(0, len(np.unique(y_train)))]\n",
    "        self.each_class_bigram_dict = [{} for i in range(0, len(np.unique(y_train)))]\n",
    "        self.each_class_tokens = [[] for i in range(0, len(np.unique(y_train)))]\n",
    "        # Text preprocessing, tokenizing, stemming, removing stop words\n",
    "        splitted_data = X_train\n",
    "        for idx, item in enumerate(splitted_data):\n",
    "            self.each_class_tokens[y_train[idx]].append(item)\n",
    "        for idx, item in enumerate(self.each_class_tokens):\n",
    "            for token_list in item:\n",
    "                for i, token in enumerate(token_list[:-1]):\n",
    "                    cur_key = \" \".join([token_list[i],token_list[i+1]])\n",
    "                    self.each_class_bigram_dict[idx][cur_key] = 1 if cur_key not in self.each_class_bigram_dict[idx] else self.each_class_bigram_dict[idx][cur_key]+1\n",
    "                    self.common_bigram_dict[token] = 1 if token not in self.common_bigram_dict else self.common_bigram_dict[token]+1\n",
    "        for idx, item in enumerate(self.each_class_tokens):\n",
    "            self.each_class_tokens[idx] = [item for sublist in self.each_class_tokens[idx] for item in sublist]\n",
    "        # Creating a dictionary\n",
    "        for idx,all_tokens in enumerate(self.each_class_tokens):\n",
    "            for token in all_tokens:\n",
    "                self.each_class_dict[idx][token] = 1 if token not in self.each_class_dict[idx] else self.each_class_dict[idx][token]+1\n",
    "                self.common_dict[token] = 1 if token not in self.common_dict else self.common_dict[token]+1\n",
    "        # Frequency -> probability\n",
    "        total_words = (sum([len(self.each_class_tokens[i]) for i in range(0, len(self.each_class_tokens))]))\n",
    "        total_bigrams = (sum([item for key, item in self.common_bigram_dict.items()]))\n",
    "        #print(self.common_dict)\n",
    "        #print(self.common_bigram_dict)\n",
    "        self.common_bigram_dict = {key: item/self.common_dict[key.split()[0]] for key, item in self.common_bigram_dict.items()}\n",
    "        self.common_dict = {key: item/total_words for key, item in self.common_dict.items()}\n",
    "        self.each_class_dict_freq = copy.deepcopy(self.each_class_dict)\n",
    "        self.each_class_bigram_dict_freq = copy.deepcopy(self.each_class_bigram_dict)\n",
    "        for idx, class_dict in enumerate(self.each_class_dict):\n",
    "            self.each_class_dict[idx] = {key:item/len(self.each_class_tokens[idx]) for key, item in class_dict.items()}\n",
    "        for idx, class_dict in enumerate(self.each_class_bigram_dict):\n",
    "            #num_of_bigrams = sum([item for key, item in class_dict.items()])\n",
    "            self.each_class_bigram_dict[idx] = {key:item/self.each_class_dict_freq[idx][key.split()[0]] for key, item in class_dict.items()}\n",
    "        #print(self.each_class_bigram_dict[0])\n",
    "        #print(sum([item for key, item in self.each_class_bigram_dict[2].items()]))\n",
    "    def get_params(self, deep = False):\n",
    "        return {'my_lambda':self.my_lambda, 'my_mu':self.my_mu, 'LM':self.LM}"
   ]
  },
  {
   "cell_type": "markdown",
   "metadata": {},
   "source": [
    "Now let's define score function which will return F1-score"
   ]
  },
  {
   "cell_type": "code",
   "execution_count": 6,
   "metadata": {
    "collapsed": true
   },
   "outputs": [],
   "source": [
    "def scorer(estimator, X, y):\n",
    "    predictions = estimator.classify(X)\n",
    "    return f1_score(y, predictions, average='macro')"
   ]
  },
  {
   "cell_type": "markdown",
   "metadata": {},
   "source": [
    "And let's test the classifier based on a KL-distance. The result is computed for line classification (labeling), where each sample is a line from the test resumes."
   ]
  },
  {
   "cell_type": "code",
   "execution_count": 7,
   "metadata": {
    "collapsed": false
   },
   "outputs": [
    {
     "name": "stdout",
     "output_type": "stream",
     "text": [
      "F1-score 0.96610143669\n"
     ]
    }
   ],
   "source": [
    "mnb = MyNaiveBayes(\"KL\",0.11)\n",
    "mnb.fit(X_train, y_train)\n",
    "res = mnb.classify(X_train)\n",
    "f1 = f1_score(y_train, res, average='macro')\n",
    "print(\"F1-score\",f1)"
   ]
  },
  {
   "cell_type": "markdown",
   "metadata": {},
   "source": [
    "The example of labeling is presented below, resume lines are preprocced."
   ]
  },
  {
   "cell_type": "code",
   "execution_count": 8,
   "metadata": {
    "collapsed": false
   },
   "outputs": [
    {
     "name": "stdout",
     "output_type": "stream",
     "text": [
      "c осторожн заболеван печен [2]\n",
      "с осторожн назнача албендазол пациент с печеночн недостаточн цирроз печен [2]\n",
      "противопоказан остр гепат цирроз печен [1]\n",
      "противопоказа при тяжел нарушен функц печен с особ осторожн след назнача препарат при указан в анамнез на заболеван печен [2]\n",
      "противопоказа при печеночн недостаточн в случа назначен больш доз с осторожн назнача при нарушен функц печен печеночн недостаточн [2]\n",
      "противопоказан печеночн недостаточн [1]\n",
      "противопоказа при выражен нарушен функц печен [1]\n",
      "противопоказа при остр гепат цирроз печен пациент имеющ в анамнез заболеван печен разв на фон прием метилдоп пациент с заболеван ил нарушен функц печен в анамнез дан препарат след назнача с крайн осторожн [2]\n",
      "с осторожн след применя препарат при печеночн недостаточн коррекц доз не треб [2]\n",
      "с осторожн след назнача препарат при умерен печеночн недостаточн противопоказан тяжел печеночн недостаточн [1]\n"
     ]
    }
   ],
   "source": [
    "for idx in range(0, 10):\n",
    "    print(\" \".join(X_train[idx]), '['+text_of_labels[res[idx]]+']')"
   ]
  },
  {
   "cell_type": "markdown",
   "metadata": {},
   "source": [
    "Let's optimize parameters mu and lambda for Jelinec-Mercer and Dirichlet language models based on optimal f-1 score.\n",
    "\n",
    "We will use the whole paragraphs of sections, e.g. whole education paragraph, as a training sample. That's why we will get a little different results."
   ]
  },
  {
   "cell_type": "code",
   "execution_count": 9,
   "metadata": {
    "collapsed": false
   },
   "outputs": [
    {
     "name": "stderr",
     "output_type": "stream",
     "text": [
      "/Users/ilyas/anaconda/envs/InfRet/lib/python3.6/site-packages/sklearn/metrics/classification.py:1135: UndefinedMetricWarning: F-score is ill-defined and being set to 0.0 in labels with no predicted samples.\n",
      "  'precision', 'predicted', average, warn_for)\n",
      "/Users/ilyas/anaconda/envs/InfRet/lib/python3.6/site-packages/sklearn/metrics/classification.py:1137: UndefinedMetricWarning: F-score is ill-defined and being set to 0.0 in labels with no true samples.\n",
      "  'recall', 'true', average, warn_for)\n"
     ]
    }
   ],
   "source": [
    "smoothed_results_JM = []\n",
    "linspace_Jelinec_Mercer = np.linspace(0,1,10)\n",
    "for my_lambda in linspace_Jelinec_Mercer:\n",
    "    mnb = MyNaiveBayes(\"JM\",my_lambda)\n",
    "    scores = cross_val_score(mnb,X_train, y_train, scoring=scorer, cv=5)\n",
    "    smoothed_results_JM.append(scores.mean())"
   ]
  },
  {
   "cell_type": "code",
   "execution_count": 10,
   "metadata": {
    "collapsed": false
   },
   "outputs": [
    {
     "name": "stdout",
     "output_type": "stream",
     "text": [
      "Max f-1 for lambda = 0.111111111111 f1= 0.711966168327\n"
     ]
    },
    {
     "data": {
      "text/plain": [
       "[<matplotlib.lines.Line2D at 0x113ef4630>]"
      ]
     },
     "execution_count": 10,
     "metadata": {},
     "output_type": "execute_result"
    },
    {
     "data": {
      "image/png": "[encoded data removed]",
      "text/plain": [
       "<matplotlib.figure.Figure at 0x113e15780>"
      ]
     },
     "metadata": {},
     "output_type": "display_data"
    }
   ],
   "source": [
    "print(\"Max f-1 for lambda =\", linspace_Jelinec_Mercer[np.argmax(smoothed_results_JM)],\"f1=\",np.max(smoothed_results_JM))\n",
    "plt.plot(linspace_Jelinec_Mercer, smoothed_results_JM)"
   ]
  },
  {
   "cell_type": "code",
   "execution_count": 153,
   "metadata": {
    "collapsed": true
   },
   "outputs": [],
   "source": [
    "smoothed_results = []\n",
    "linspace_Dirichlet = np.linspace(0,5000,100)\n",
    "for my_mu in linspace_Dirichlet:\n",
    "    mnb = MyNaiveBayes(\"Dir\",0,my_mu)\n",
    "    scores = cross_val_score(mnb,X_train, y_train, scoring=scorer, cv=5)\n",
    "    smoothed_results.append(scores.mean())"
   ]
  },
  {
   "cell_type": "code",
   "execution_count": 13,
   "metadata": {
    "collapsed": false
   },
   "outputs": [
    {
     "name": "stdout",
     "output_type": "stream",
     "text": [
      "Max f-1 for mu = 0.0 f1= 0.599795037675\n"
     ]
    },
    {
     "data": {
      "text/plain": [
       "[<matplotlib.lines.Line2D at 0x10dfb5978>]"
      ]
     },
     "execution_count": 13,
     "metadata": {},
     "output_type": "execute_result"
    },
    {
     "data": {
      "image/png": "[encoded data removed]",
      "text/plain": [
       "<matplotlib.figure.Figure at 0x10f524c50>"
      ]
     },
     "metadata": {},
     "output_type": "display_data"
    }
   ],
   "source": [
    "print(\"Max f-1 for mu =\", linspace_Dirichlet[np.argmax(smoothed_results)],\"f1=\",np.max(smoothed_results))\n",
    "plt.plot(linspace_Dirichlet, smoothed_results)"
   ]
  },
  {
   "cell_type": "markdown",
   "metadata": {
    "collapsed": true
   },
   "source": [
    "Let's try to optimize mu-parameter of the Dirichlet LM using leave-one-out method and optimizing it's likelyhood function. In the example below you can see an example of optimizing using <i>minimize()</i> function from the sklearn. Unfortunatelly it doesn't converge to global maximum. The Newton method was implemented in the MyNaiveBayes class and does not converge too. The reason may be non-convex likelyhood fucntion because of sparse dataset."
   ]
  },
  {
   "cell_type": "code",
   "execution_count": null,
   "metadata": {
    "collapsed": false
   },
   "outputs": [],
   "source": [
    "train_table = []\n",
    "for root, dirs, files in os.walk('/Users/ilyas/Documents/Innopolis/InfRetrieval/pills_online/static/desc'):\n",
    "    for idx,file in enumerate(files):\n",
    "        if(file[-3:]==\"txt\"):\n",
    "            #print(file)\n",
    "            with open(root+os.sep+file) as f:\n",
    "                cur_row = [\"-\",\"-\",\"-\",\"-\"]\n",
    "                data = f.readlines()\n",
    "                title = data[0]\n",
    "                cur_row[0]=title\n",
    "                splitted_h_d = \"\\n\".join(data[1:]).split('!#!')\n",
    "                transl_dict = {'Показания': 'indication', 'Дозировка': 'dosage', 'Противопоказания': 'contra',\n",
    "                                       'Побочные действия': 'side_effect', 'Фармакологическое действие': 'pharm_action',\n",
    "                                       'Особые указания': 'spec_instruct', 'Беременность и лактация': 'pregnancy',\n",
    "                                       'Лекарственное взаимодействие': 'med_interact', 'Фармакокинетика': 'pharm_kinetic',\n",
    "                                       'Применение в детском возрасте': 'child_policy',\n",
    "                                       'Клинико-фармакологическая группа': 'clinic_pharm_group',\n",
    "                                       'Форма выпуска, состав и упаковка': 'form_composition',\n",
    "                                       'Условия отпуска из аптек': 'distr_policy',\n",
    "                                       'Условия и сроки хранения': 'expiration_date', 'Передозировка': 'overdosage',\n",
    "                                       'При нарушениях функции почек': 'kidney', 'При нарушениях функции печени': 'liver',\n",
    "                                       'Применение в пожилом возрасте': 'old_policy'}\n",
    "                paste_dict = {}\n",
    "                for h_d in splitted_h_d:\n",
    "                        if h_d != '':\n",
    "                            h_d = h_d.split('#!#\\n\\n')\n",
    "                            if(h_d[0]==\"Беременность и лактация\"):\n",
    "                                cur_row[1]=h_d[1]\n",
    "                            elif (h_d[0]==\"При нарушениях функции почек\"):\n",
    "                                cur_row[2]=h_d[1]\n",
    "                            elif (h_d[0]==\"При нарушениях функции печени\"):\n",
    "                                cur_row[3]=h_d[1] \n",
    "                train_table.append(cur_row)"
   ]
  },
  {
   "cell_type": "code",
   "execution_count": 12,
   "metadata": {
    "collapsed": true
   },
   "outputs": [],
   "source": [
    "train_table = np.array(train_table)"
   ]
  },
  {
   "cell_type": "code",
   "execution_count": 13,
   "metadata": {
    "collapsed": true
   },
   "outputs": [],
   "source": [
    "tbl = dict.fromkeys(i for i in range(sys.maxunicode)\n",
    "                    if unicodedata.category(chr(i)).startswith('P'))"
   ]
  },
  {
   "cell_type": "code",
   "execution_count": 38,
   "metadata": {
    "collapsed": true
   },
   "outputs": [],
   "source": [
    "for i in range(train_table.shape[0]):\n",
    "    for j in range(1,train_table.shape[1]):\n",
    "        train_table[i][j] = train_table[i][j].translate(tbl)\n",
    "contra = [word_tokenize(item) for item in train_table[:,2]]\n",
    "contra = [[stemmer.stem(token.lower()) for token in token_list if token.lower() not in my_stop_words and re.match(r\"[0-9]+\",token) is None] \n",
    "             for token_list in contra]"
   ]
  },
  {
   "cell_type": "code",
   "execution_count": 39,
   "metadata": {
    "collapsed": true
   },
   "outputs": [],
   "source": [
    "mnb = MyNaiveBayes(\"KL\",0.11)\n",
    "mnb.fit(X_train, y_train)\n",
    "res = mnb.classify(contra)"
   ]
  },
  {
   "cell_type": "code",
   "execution_count": 40,
   "metadata": {
    "collapsed": true
   },
   "outputs": [],
   "source": [
    "with open(\"kidney_warnings.txt\", \"w\") as out_f:\n",
    "    for idx, r in enumerate(res):\n",
    "        out_str = \"\\t\".join([train_table[idx,0][:-1],str(r)])\n",
    "        out_f.write(out_str+\"\\n\")"
   ]
  }
 ],
 "metadata": {
  "anaconda-cloud": {},
  "kernelspec": {
   "display_name": "Python [InfRet]",
   "language": "python",
   "name": "Python [InfRet]"
  },
  "language_info": {
   "codemirror_mode": {
    "name": "ipython",
    "version": 3
   },
   "file_extension": ".py",
   "mimetype": "text/x-python",
   "name": "python",
   "nbconvert_exporter": "python",
   "pygments_lexer": "ipython3",
   "version": "3.6.2"
  }
 },
 "nbformat": 4,
 "nbformat_minor": 2
}
